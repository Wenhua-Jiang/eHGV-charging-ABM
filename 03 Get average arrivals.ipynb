{
 "cells": [
  {
   "cell_type": "markdown",
   "id": "6ec72b73",
   "metadata": {},
   "source": [
    "### Get average long traffic for Wednesday and Sunday"
   ]
  },
  {
   "cell_type": "code",
   "execution_count": 13,
   "id": "997923aa",
   "metadata": {},
   "outputs": [],
   "source": [
    "import io\n",
    "import pandas as pd\n",
    "import numpy as np\n",
    "import random\n",
    "import seaborn as sns\n",
    "import matplotlib.pyplot as plt\n",
    "from matplotlib.backends.backend_pdf import PdfPages\n",
    "import os"
   ]
  },
  {
   "cell_type": "code",
   "execution_count": 14,
   "id": "ee337b01",
   "metadata": {},
   "outputs": [],
   "source": [
    "def arrivals_each_case(site, day, p_HGV=0.4,p_eHGV = 0.2,p_eHGV_stop = 0.2,num_cases=9,target_column='long_eHGV_stop'):\n",
    "    # Read the CSV file\n",
    "    df = pd.read_csv(f\"site{site}_day{day}_long_traffic.csv\", index_col=0)   \n",
    "    df_avg = df.mean(axis=1)  # Compute mean across columns for each row\n",
    "\n",
    "    # Convert df_avg from a Series to a DataFrame and rename the column\n",
    "    df_avg = pd.DataFrame(df_avg)\n",
    "    df_avg.columns = ['avg_long']  # Rename the column to 'avg_long'\n",
    "\n",
    "    # Compute the long_HGV, long_eHGV, long_eHGV_stop values\n",
    "    df_avg['long_HGV'] = round(df_avg['avg_long'] * p_HGV)\n",
    "    df_avg['long_eHGV'] = round(df_avg['long_HGV'] * p_eHGV)\n",
    "    df_avg['long_eHGV_stop'] = round(df_avg['long_eHGV'] * p_eHGV_stop)\n",
    "    \n",
    "    # Create a matrix of zeros with shape (n_rows, num_cases)\n",
    "    case_matrix = np.zeros((df_avg.shape[0], num_cases), dtype=int)\n",
    "\n",
    "    # Loop over each row and distribute the value of long_eHGV_stop using normal distribution\n",
    "    for i, row in df_avg.iterrows():\n",
    "        total_value = row[target_column]  # Value to distribute across cases\n",
    "\n",
    "        if total_value > 0:\n",
    "            # Generate random values using normal distribution\n",
    "            # Mean is total_value / num_cases, and we set a small std deviation (like 0.5) to control the spread\n",
    "            mean_value = total_value / num_cases\n",
    "            std_dev = 0.5  # Standard deviation, can be adjusted based on desired spread\n",
    "\n",
    "            # Generate random values for case1 to case9\n",
    "            random_cases = np.random.normal(loc=mean_value, scale=std_dev, size=num_cases)\n",
    "\n",
    "            # Clip the values to ensure they are not negative\n",
    "            random_cases = np.clip(random_cases, 0, None)\n",
    "\n",
    "            # Scale the values so that the sum equals 'total_value'\n",
    "            scale_factor = total_value / np.sum(random_cases)\n",
    "            random_cases *= scale_factor\n",
    "\n",
    "            # Round the values to get integers and ensure sum matches total_value\n",
    "            random_cases = np.round(random_cases).astype(int)\n",
    "\n",
    "            # Assign the case values to the case_matrix\n",
    "            case_matrix[i, :] = random_cases\n",
    "\n",
    "    # Assign the case matrix to the DataFrame\n",
    "    df_avg[['case' + str(i) for i in range(1, num_cases + 1)]] = case_matrix\n",
    "    df_avg.to_csv(f\"site{site}_day{day}_arrivals.csv\")\n",
    "    \n",
    "    return df_avg\n",
    "\n",
    "    "
   ]
  },
  {
   "cell_type": "markdown",
   "id": "2591c524",
   "metadata": {},
   "source": [
    "### Average arrivals for each case (Wednesday)"
   ]
  },
  {
   "cell_type": "code",
   "execution_count": 15,
   "id": "4f97028b",
   "metadata": {},
   "outputs": [],
   "source": [
    "df_avg_site0_day3 = arrivals_each_case(site = 0, day = 3)\n",
    "df_avg_site0_day3.iloc[:,4:].to_csv(\"../arrivals/default_arrivals_day3.csv\",header=False)"
   ]
  },
  {
   "cell_type": "markdown",
   "id": "92839f8a",
   "metadata": {},
   "source": [
    "### Average arrivals for each case (Sunday)"
   ]
  },
  {
   "cell_type": "code",
   "execution_count": 16,
   "id": "23902abe",
   "metadata": {},
   "outputs": [],
   "source": [
    "df_avg_site0_day0 = arrivals_each_case(site = 0, day = 0)\n",
    "df_avg_site0_day0.iloc[:,4:].to_csv(\"../arrivals/default_arrivals_day0.csv\",header=False)"
   ]
  },
  {
   "cell_type": "code",
   "execution_count": null,
   "id": "1daa3249",
   "metadata": {},
   "outputs": [],
   "source": []
  },
  {
   "cell_type": "code",
   "execution_count": null,
   "id": "479067a6",
   "metadata": {},
   "outputs": [],
   "source": []
  },
  {
   "cell_type": "code",
   "execution_count": null,
   "id": "655b23ea",
   "metadata": {},
   "outputs": [],
   "source": []
  },
  {
   "cell_type": "code",
   "execution_count": null,
   "id": "254440e2",
   "metadata": {},
   "outputs": [],
   "source": []
  },
  {
   "cell_type": "code",
   "execution_count": null,
   "id": "d864ede2",
   "metadata": {},
   "outputs": [],
   "source": []
  },
  {
   "cell_type": "code",
   "execution_count": null,
   "id": "1dfc60b3",
   "metadata": {},
   "outputs": [],
   "source": []
  },
  {
   "cell_type": "code",
   "execution_count": null,
   "id": "adc47c9a",
   "metadata": {},
   "outputs": [],
   "source": []
  },
  {
   "cell_type": "code",
   "execution_count": null,
   "id": "1505b030",
   "metadata": {},
   "outputs": [],
   "source": []
  },
  {
   "cell_type": "code",
   "execution_count": null,
   "id": "34bc98ee",
   "metadata": {},
   "outputs": [],
   "source": []
  }
 ],
 "metadata": {
  "kernelspec": {
   "display_name": "Python 3 (ipykernel)",
   "language": "python",
   "name": "python3"
  },
  "language_info": {
   "codemirror_mode": {
    "name": "ipython",
    "version": 3
   },
   "file_extension": ".py",
   "mimetype": "text/x-python",
   "name": "python",
   "nbconvert_exporter": "python",
   "pygments_lexer": "ipython3",
   "version": "3.11.0"
  }
 },
 "nbformat": 4,
 "nbformat_minor": 5
}
